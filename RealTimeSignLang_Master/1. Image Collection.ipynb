{
 "cells": [
  {
   "cell_type": "markdown",
   "metadata": {},
   "source": [
    "# 1. Import Dependencies"
   ]
  },
  {
   "cell_type": "code",
   "execution_count": 1,
   "metadata": {},
   "outputs": [
    {
     "name": "stdout",
     "output_type": "stream",
     "text": [
      "Collecting opencv-python"
     ]
    },
    {
     "name": "stderr",
     "output_type": "stream",
     "text": [
      "WARNING: Retrying (Retry(total=4, connect=None, read=None, redirect=None, status=None)) after connection broken by 'ConnectTimeoutError(<pip._vendor.urllib3.connection.HTTPSConnection object at 0x000002091598C5C0>, 'Connection to pypi.org timed out. (connect timeout=15)')': /simple/opencv-python/\n",
      "WARNING: Retrying (Retry(total=3, connect=None, read=None, redirect=None, status=None)) after connection broken by 'ConnectTimeoutError(<pip._vendor.urllib3.connection.HTTPSConnection object at 0x000002091598C908>, 'Connection to pypi.org timed out. (connect timeout=15)')': /simple/opencv-python/\n"
     ]
    },
    {
     "name": "stdout",
     "output_type": "stream",
     "text": [
      "\n",
      "  Using cached opencv_python-4.5.1.48-cp37-cp37m-win_amd64.whl (34.9 MB)\n",
      "Collecting numpy>=1.14.5\n",
      "  Downloading numpy-1.20.2-cp37-cp37m-win_amd64.whl (13.6 MB)\n",
      "Installing collected packages: numpy, opencv-python\n",
      "Successfully installed numpy-1.20.2 opencv-python-4.5.1.48\n"
     ]
    },
    {
     "name": "stderr",
     "output_type": "stream",
     "text": [
      "WARNING: Retrying (Retry(total=2, connect=None, read=None, redirect=None, status=None)) after connection broken by 'ConnectTimeoutError(<pip._vendor.urllib3.connection.HTTPSConnection object at 0x000002091598CA20>, 'Connection to pypi.org timed out. (connect timeout=15)')': /simple/opencv-python/\n",
      "WARNING: Retrying (Retry(total=1, connect=None, read=None, redirect=None, status=None)) after connection broken by 'ConnectTimeoutError(<pip._vendor.urllib3.connection.HTTPSConnection object at 0x000002091598CB70>, 'Connection to pypi.org timed out. (connect timeout=15)')': /simple/opencv-python/\n"
     ]
    }
   ],
   "source": [
    "!pip install opencv-python"
   ]
  },
  {
   "cell_type": "code",
   "execution_count": 1,
   "metadata": {},
   "outputs": [],
   "source": [
    "# Import opencv\n",
    "import cv2 \n",
    "\n",
    "# Import uuid\n",
    "import uuid\n",
    "\n",
    "# Import Operating System\n",
    "import os\n",
    "\n",
    "# Import time\n",
    "import time"
   ]
  },
  {
   "cell_type": "markdown",
   "metadata": {},
   "source": [
    "# 2. Define Images to Collect"
   ]
  },
  {
   "cell_type": "code",
   "execution_count": 10,
   "metadata": {},
   "outputs": [],
   "source": [
    "labels = ['A','B','C','D','E','F','G','H','I','J','K','L','M','N','O','P','Q','R','S','T','U','V','W','X','Y','Z']\n",
    "number_imgs = 1000"
   ]
  },
  {
   "cell_type": "markdown",
   "metadata": {},
   "source": [
    "# 3. Setup Folders "
   ]
  },
  {
   "cell_type": "code",
   "execution_count": 2,
   "metadata": {},
   "outputs": [],
   "source": [
    "IMAGES_PATH = os.path.join('Tensorflow', 'workspace', 'images', 'collectedimages')"
   ]
  },
  {
   "cell_type": "code",
   "execution_count": 12,
   "metadata": {},
   "outputs": [],
   "source": [
    "if not os.path.exists(IMAGES_PATH):\n",
    "    if os.name == 'posix':\n",
    "        !mkdir -p {IMAGES_PATH}\n",
    "    if os.name == 'nt':\n",
    "         !mkdir {IMAGES_PATH}\n",
    "for label in labels:\n",
    "    path = os.path.join(IMAGES_PATH, label)\n",
    "    if not os.path.exists(path):\n",
    "        !mkdir {path}"
   ]
  },
  {
   "cell_type": "markdown",
   "metadata": {},
   "source": [
    "# 4. Capture Images"
   ]
  },
  {
   "cell_type": "code",
   "execution_count": 14,
   "metadata": {
    "scrolled": true
   },
   "outputs": [
    {
     "name": "stdout",
     "output_type": "stream",
     "text": [
      "Collecting images for I\n",
      "Collecting image 0\n",
      "Collecting image 1\n",
      "Collecting image 2\n",
      "Collecting image 3\n",
      "Collecting image 4\n",
      "Collecting image 5\n",
      "Collecting image 6\n",
      "Collecting image 7\n"
     ]
    }
   ],
   "source": [
    "for label in labels:\n",
    "    cap = cv2.VideoCapture(0)\n",
    "    print('Collecting images for {}'.format(label))\n",
    "    time.sleep(5)\n",
    "    for imgnum in range(number_imgs):\n",
    "        print('Collecting image {}'.format(imgnum))\n",
    "        ret, frame = cap.read()\n",
    "        imgname = os.path.join(IMAGES_PATH,label,label+'.'+'{}.jpg'.format(str(uuid.uuid1())))\n",
    "        cv2.imwrite(imgname, frame)\n",
    "        cv2.imshow('frame', frame)\n",
    "        time.sleep(2)\n",
    "\n",
    "        if cv2.waitKey(1) & 0xFF == ord('q'):\n",
    "            break\n",
    "cap.release()\n",
    "cv2.destroyAllWindows()"
   ]
  },
  {
   "cell_type": "markdown",
   "metadata": {},
   "source": [
    "# 5. Image Labelling"
   ]
  },
  {
   "cell_type": "code",
   "execution_count": 262,
   "metadata": {},
   "outputs": [
    {
     "name": "stdout",
     "output_type": "stream",
     "text": [
      "Collecting pyqt5\n",
      "  Using cached PyQt5-5.15.4-cp36.cp37.cp38.cp39-none-win_amd64.whl (6.8 MB)\n",
      "Collecting lxml\n",
      "  Downloading lxml-4.6.3-cp37-cp37m-win_amd64.whl (3.5 MB)\n",
      "Collecting PyQt5-sip<13,>=12.8\n",
      "  Using cached PyQt5_sip-12.8.1-cp37-cp37m-win_amd64.whl (62 kB)\n",
      "Collecting PyQt5-Qt5>=5.15\n",
      "  Using cached PyQt5_Qt5-5.15.2-py3-none-win_amd64.whl (50.1 MB)\n",
      "Installing collected packages: PyQt5-sip, PyQt5-Qt5, pyqt5, lxml\n",
      "Successfully installed PyQt5-Qt5-5.15.2 PyQt5-sip-12.8.1 lxml-4.6.3 pyqt5-5.15.4\n"
     ]
    }
   ],
   "source": [
    "!pip install --upgrade pyqt5 lxml"
   ]
  },
  {
   "cell_type": "code",
   "execution_count": 3,
   "metadata": {},
   "outputs": [],
   "source": [
    "LABELIMG_PATH = os.path.join('Tensorflow', 'labelimg')"
   ]
  },
  {
   "cell_type": "code",
   "execution_count": 264,
   "metadata": {
    "scrolled": true
   },
   "outputs": [
    {
     "name": "stderr",
     "output_type": "stream",
     "text": [
      "Cloning into 'Tensorflow\\labelimg'...\n",
      "Updating files:  23% (24/103)\n",
      "Updating files:  24% (25/103)\n",
      "Updating files:  25% (26/103)\n",
      "Updating files:  26% (27/103)\n",
      "Updating files:  27% (28/103)\n",
      "Updating files:  28% (29/103)\n",
      "Updating files:  29% (30/103)\n",
      "Updating files:  30% (31/103)\n",
      "Updating files:  31% (32/103)\n",
      "Updating files:  32% (33/103)\n",
      "Updating files:  33% (34/103)\n",
      "Updating files:  34% (36/103)\n",
      "Updating files:  35% (37/103)\n",
      "Updating files:  36% (38/103)\n",
      "Updating files:  37% (39/103)\n",
      "Updating files:  38% (40/103)\n",
      "Updating files:  39% (41/103)\n",
      "Updating files:  40% (42/103)\n",
      "Updating files:  41% (43/103)\n",
      "Updating files:  42% (44/103)\n",
      "Updating files:  43% (45/103)\n",
      "Updating files:  44% (46/103)\n",
      "Updating files:  45% (47/103)\n",
      "Updating files:  46% (48/103)\n",
      "Updating files:  47% (49/103)\n",
      "Updating files:  48% (50/103)\n",
      "Updating files:  49% (51/103)\n",
      "Updating files:  50% (52/103)\n",
      "Updating files:  51% (53/103)\n",
      "Updating files:  52% (54/103)\n",
      "Updating files:  53% (55/103)\n",
      "Updating files:  54% (56/103)\n",
      "Updating files:  55% (57/103)\n",
      "Updating files:  56% (58/103)\n",
      "Updating files:  57% (59/103)\n",
      "Updating files:  58% (60/103)\n",
      "Updating files:  59% (61/103)\n",
      "Updating files:  60% (62/103)\n",
      "Updating files:  61% (63/103)\n",
      "Updating files:  62% (64/103)\n",
      "Updating files:  63% (65/103)\n",
      "Updating files:  64% (66/103)\n",
      "Updating files:  65% (67/103)\n",
      "Updating files:  66% (68/103)\n",
      "Updating files:  67% (70/103)\n",
      "Updating files:  68% (71/103)\n",
      "Updating files:  69% (72/103)\n",
      "Updating files:  70% (73/103)\n",
      "Updating files:  71% (74/103)\n",
      "Updating files:  72% (75/103)\n",
      "Updating files:  73% (76/103)\n",
      "Updating files:  74% (77/103)\n",
      "Updating files:  75% (78/103)\n",
      "Updating files:  76% (79/103)\n",
      "Updating files:  77% (80/103)\n",
      "Updating files:  78% (81/103)\n",
      "Updating files:  79% (82/103)\n",
      "Updating files:  80% (83/103)\n",
      "Updating files:  81% (84/103)\n",
      "Updating files:  82% (85/103)\n",
      "Updating files:  83% (86/103)\n",
      "Updating files:  84% (87/103)\n",
      "Updating files:  85% (88/103)\n",
      "Updating files:  86% (89/103)\n",
      "Updating files:  87% (90/103)\n",
      "Updating files:  88% (91/103)\n",
      "Updating files:  89% (92/103)\n",
      "Updating files:  90% (93/103)\n",
      "Updating files:  91% (94/103)\n",
      "Updating files:  92% (95/103)\n",
      "Updating files:  93% (96/103)\n",
      "Updating files:  94% (97/103)\n",
      "Updating files:  95% (98/103)\n",
      "Updating files:  96% (99/103)\n",
      "Updating files:  97% (100/103)\n",
      "Updating files:  98% (101/103)\n",
      "Updating files:  99% (102/103)\n",
      "Updating files: 100% (103/103)\n",
      "Updating files: 100% (103/103), done.\n"
     ]
    }
   ],
   "source": [
    "if not os.path.exists(LABELIMG_PATH):\n",
    "    !mkdir {LABELIMG_PATH}\n",
    "    !git clone https://github.com/tzutalin/labelImg {LABELIMG_PATH}"
   ]
  },
  {
   "cell_type": "code",
   "execution_count": 265,
   "metadata": {},
   "outputs": [
    {
     "data": {
      "text/plain": [
       "'nt'"
      ]
     },
     "execution_count": 265,
     "metadata": {},
     "output_type": "execute_result"
    }
   ],
   "source": [
    "os.name"
   ]
  },
  {
   "cell_type": "code",
   "execution_count": 266,
   "metadata": {},
   "outputs": [],
   "source": [
    "if os.name == 'posix':\n",
    "    !make qt5py3\n",
    "if os.name =='nt':\n",
    "    !cd {LABELIMG_PATH} && pyrcc5 -o libs/resources.py resources.qrc"
   ]
  },
  {
   "cell_type": "code",
   "execution_count": null,
   "metadata": {
    "scrolled": true
   },
   "outputs": [],
   "source": [
    "!cd {LABELIMG_PATH} && python labelImg.py"
   ]
  },
  {
   "cell_type": "markdown",
   "metadata": {},
   "source": [
    "# 6. Move them into a Training and Testing Partition"
   ]
  },
  {
   "cell_type": "markdown",
   "metadata": {},
   "source": [
    "# OPTIONAL - 7. Compress them for Colab Training"
   ]
  },
  {
   "cell_type": "code",
   "execution_count": 4,
   "metadata": {},
   "outputs": [],
   "source": [
    "TRAIN_PATH = os.path.join('Tensorflow', 'workspace', 'images', 'train')\n",
    "TEST_PATH = os.path.join('Tensorflow', 'workspace', 'images', 'test')\n",
    "ARCHIVE_PATH = os.path.join('Tensorflow', 'workspace', 'images', 'archive.tar.gz')"
   ]
  },
  {
   "cell_type": "code",
   "execution_count": 5,
   "metadata": {},
   "outputs": [],
   "source": [
    "!tar -czf {ARCHIVE_PATH} {TRAIN_PATH} {TEST_PATH}"
   ]
  },
  {
   "cell_type": "code",
   "execution_count": 4,
   "metadata": {},
   "outputs": [],
   "source": [
    "!tar -czf {ARCHIVE_PATH} {TEST_PATH} "
   ]
  },
  {
   "cell_type": "code",
   "execution_count": null,
   "metadata": {},
   "outputs": [],
   "source": []
  }
 ],
 "metadata": {
  "kernelspec": {
   "display_name": "tfod",
   "language": "python",
   "name": "tfod"
  },
  "language_info": {
   "codemirror_mode": {
    "name": "ipython",
    "version": 3
   },
   "file_extension": ".py",
   "mimetype": "text/x-python",
   "name": "python",
   "nbconvert_exporter": "python",
   "pygments_lexer": "ipython3",
   "version": "3.7.3"
  }
 },
 "nbformat": 4,
 "nbformat_minor": 2
}
